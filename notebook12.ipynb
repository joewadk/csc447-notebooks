{
  "cells": [
    {
      "cell_type": "markdown",
      "metadata": {
        "id": "wG0NXbGjYb_h"
      },
      "source": [
        "# Paralleling Neural Network with PyTorch\n",
        "\n",
        "- a simpe network with synthetic dataset\n",
        "- build input pipeline, model, loss function and optimizer"
      ]
    },
    {
      "cell_type": "markdown",
      "metadata": {
        "id": "nvNM2UGeYW0W"
      },
      "source": [
        "## NN with Synthetic Data"
      ]
    },
    {
      "cell_type": "code",
      "execution_count": 1,
      "metadata": {
        "id": "VHz1X9iNKQFD"
      },
      "outputs": [],
      "source": [
        "import torch\n",
        "import torch.nn as nn\n",
        "import torch.optim as optim\n"
      ]
    },
    {
      "cell_type": "code",
      "execution_count": 2,
      "metadata": {
        "id": "AzuiA0hUKUrf"
      },
      "outputs": [],
      "source": [
        "# 1. Create synthetic data\n",
        "X = torch.randn(100, 10)  # 100 samples, 10 features each\n",
        "y = torch.randint(0, 2, (100,))  # 100 labels (binary classification: 0 or 1)\n"
      ]
    },
    {
      "cell_type": "code",
      "execution_count": 3,
      "metadata": {
        "id": "Na6NcZj8KWh9"
      },
      "outputs": [],
      "source": [
        "\n",
        "# 2. Define a simple neural network\n",
        "class SimpleNN(nn.Module):\n",
        "    def __init__(self):\n",
        "        super(SimpleNN, self).__init__()\n",
        "        self.fc1 = nn.Linear(10, 32)  # input layer (10) -> hidden layer (32)\n",
        "        self.fc2 = nn.Linear(32, 2)   # hidden layer (32) -> output layer (2 classes)\n",
        "\n",
        "    def forward(self, x):\n",
        "        x = self.fc1(x)\n",
        "        x = torch.relu(x) # define activation function\n",
        "        x = self.fc2(x)\n",
        "        return x\n",
        "\n",
        "model = SimpleNN()\n"
      ]
    },
    {
      "cell_type": "code",
      "execution_count": 4,
      "metadata": {
        "id": "ByFCJj10KX_C"
      },
      "outputs": [],
      "source": [
        "# 3. Loss and optimizer\n",
        "criterion = nn.CrossEntropyLoss()\n",
        "optimizer = optim.Adam(model.parameters(), lr=0.01)\n"
      ]
    },
    {
      "cell_type": "code",
      "execution_count": 5,
      "metadata": {
        "colab": {
          "base_uri": "https://localhost:8080/"
        },
        "id": "S3Hn_EreKZN8",
        "outputId": "6b5beb70-9451-4012-f05a-f21caec7a0e1"
      },
      "outputs": [
        {
          "name": "stdout",
          "output_type": "stream",
          "text": [
            "Epoch [5/20], Loss: 0.6204\n",
            "Epoch [10/20], Loss: 0.5298\n",
            "Epoch [15/20], Loss: 0.4642\n",
            "Epoch [20/20], Loss: 0.4076\n"
          ]
        }
      ],
      "source": [
        "# 4. Training loop\n",
        "for epoch in range(20):  # train for 20 epochs\n",
        "    outputs = model(X)\n",
        "    loss = criterion(outputs, y)\n",
        "\n",
        "    optimizer.zero_grad()\n",
        "    loss.backward()\n",
        "    optimizer.step()\n",
        "\n",
        "    if (epoch + 1) % 5 == 0:\n",
        "        print(f'Epoch [{epoch+1}/20], Loss: {loss.item():.4f}')"
      ]
    },
    {
      "cell_type": "markdown",
      "metadata": {
        "id": "iv_-PM1HYReT"
      },
      "source": [
        "## NN with large dataset\n",
        "\n",
        "📚 FashionMNIST dataset size:\n",
        "\n",
        "Training set: 60,000 images\n",
        "\n",
        "Test set: 10,000 images\n",
        "\n",
        "Each image is:\n",
        "\n",
        "Size 28×28 pixels (grayscale, 1 channel)\n",
        "\n",
        "Belongs to 1 of 10 classes"
      ]
    },
    {
      "cell_type": "code",
      "execution_count": 7,
      "metadata": {
        "id": "yd1n0O8vKaOm"
      },
      "outputs": [],
      "source": [
        "import torch\n",
        "import torch.nn as nn\n",
        "import torch.optim as optim\n",
        "from torchvision import datasets, transforms\n",
        "from torch.utils.data import DataLoader\n"
      ]
    },
    {
      "cell_type": "code",
      "execution_count": 8,
      "metadata": {
        "colab": {
          "base_uri": "https://localhost:8080/"
        },
        "id": "eRjrIb8aZioC",
        "outputId": "3dbc0036-6401-47a7-d996-ae9e59829fe5"
      },
      "outputs": [
        {
          "name": "stderr",
          "output_type": "stream",
          "text": [
            "100%|██████████| 26.4M/26.4M [00:03<00:00, 7.56MB/s]\n",
            "100%|██████████| 29.5k/29.5k [00:00<00:00, 313kB/s]\n",
            "100%|██████████| 4.42M/4.42M [00:01<00:00, 4.08MB/s]\n",
            "100%|██████████| 5.15k/5.15k [00:00<?, ?B/s]\n"
          ]
        }
      ],
      "source": [
        "# 1. Prepare dataset and dataloader\n",
        "transform = transforms.ToTensor()\n",
        "\n",
        "train_dataset = datasets.FashionMNIST(root='./data', train=True, download=True, transform=transform)\n",
        "test_dataset = datasets.FashionMNIST(root='./data', train=False, download=True, transform=transform)\n",
        "\n",
        "train_loader = DataLoader(train_dataset, batch_size=64, shuffle=True)\n",
        "test_loader = DataLoader(test_dataset, batch_size=64, shuffle=False)\n"
      ]
    },
    {
      "cell_type": "code",
      "execution_count": 9,
      "metadata": {
        "colab": {
          "base_uri": "https://localhost:8080/",
          "height": 222
        },
        "id": "1ndj-0C_f3oR",
        "outputId": "be581477-ef4e-451e-e35f-87c3668d13f1"
      },
      "outputs": [
        {
          "data": {
            "image/png": "[encoded data removed]",
            "text/plain": [
              "<Figure size 1500x200 with 8 Axes>"
            ]
          },
          "metadata": {},
          "output_type": "display_data"
        }
      ],
      "source": [
        "# Visualize the first 8 images from FashionMNIST\n",
        "import matplotlib.pyplot as plt\n",
        "\n",
        "classes = ['T-shirt/top', 'Trouser', 'Pullover', 'Dress', 'Coat',\n",
        "           'Sandal', 'Shirt', 'Sneaker', 'Bag', 'Ankle boot']\n",
        "\n",
        "# Get one batch\n",
        "images, labels = next(iter(train_loader))\n",
        "\n",
        "# Plot the first 8 images\n",
        "fig, axes = plt.subplots(1, 8, figsize=(15, 2))\n",
        "for idx in range(8):\n",
        "    img = images[idx].squeeze()  # remove channel dimension (1,28,28) → (28,28)\n",
        "    label = labels[idx].item()\n",
        "    axes[idx].imshow(img, cmap='gray')\n",
        "    axes[idx].set_title(classes[label], fontsize=8)\n",
        "    axes[idx].axis('off')\n",
        "plt.tight_layout()\n",
        "plt.show()\n"
      ]
    },
    {
      "cell_type": "code",
      "execution_count": 10,
      "metadata": {
        "id": "-isfK8G1ZlhT"
      },
      "outputs": [],
      "source": [
        "# 2. Define a simple neural network\n",
        "class FashionNN(nn.Module):\n",
        "    def __init__(self):\n",
        "        super(FashionNN, self).__init__()\n",
        "        self.fc1 = nn.Linear(28*28, 128)\n",
        "        self.fc2 = nn.Linear(128, 64)\n",
        "        self.fc3 = nn.Linear(64, 10)  # 10 classes\n",
        "\n",
        "    def forward(self, x):\n",
        "        x = x.view(-1, 28*28)  # Flatten the image\n",
        "        x = torch.relu(self.fc1(x))\n",
        "        x = torch.relu(self.fc2(x))\n",
        "        x = self.fc3(x)\n",
        "        return x\n",
        "\n",
        "model = FashionNN()\n"
      ]
    },
    {
      "cell_type": "code",
      "execution_count": 11,
      "metadata": {
        "id": "HHV7b9kJZobQ"
      },
      "outputs": [],
      "source": [
        "# 3. Loss and optimizer\n",
        "criterion = nn.CrossEntropyLoss()\n",
        "optimizer = optim.Adam(model.parameters(), lr=0.001)\n"
      ]
    },
    {
      "cell_type": "code",
      "execution_count": 12,
      "metadata": {
        "colab": {
          "base_uri": "https://localhost:8080/"
        },
        "id": "OR6Nt9TNcXXs",
        "outputId": "20ff0325-eb80-4fe2-9be3-623bf617f4eb"
      },
      "outputs": [
        {
          "name": "stdout",
          "output_type": "stream",
          "text": [
            "Epoch [1/5], Average Loss: 0.5592\n",
            "Epoch [2/5], Average Loss: 0.3965\n",
            "Epoch [3/5], Average Loss: 0.3544\n",
            "Epoch [4/5], Average Loss: 0.3308\n",
            "Epoch [5/5], Average Loss: 0.3125\n"
          ]
        }
      ],
      "source": [
        "# 4. Training loop\n",
        "for epoch in range(5):\n",
        "    running_loss = 0.0\n",
        "    for images, labels in train_loader:\n",
        "        outputs = model(images)\n",
        "        loss = criterion(outputs, labels)\n",
        "\n",
        "        optimizer.zero_grad()\n",
        "        loss.backward()\n",
        "        optimizer.step()\n",
        "\n",
        "        running_loss += loss.item()  # add batch loss to total\n",
        "\n",
        "    avg_loss = running_loss / len(train_loader)  # average loss per batch\n",
        "    print(f'Epoch [{epoch+1}/5], Average Loss: {avg_loss:.4f}')\n"
      ]
    },
    {
      "cell_type": "code",
      "execution_count": 13,
      "metadata": {
        "id": "TZ4X3NqfZsCv"
      },
      "outputs": [
        {
          "name": "stdout",
          "output_type": "stream",
          "text": [
            "Model saved!\n"
          ]
        }
      ],
      "source": [
        "# 5. Save the model\n",
        "torch.save(model.state_dict(), 'fashion_mnist_model.pth')\n",
        "print(\"Model saved!\")\n"
      ]
    },
    {
      "cell_type": "code",
      "execution_count": 14,
      "metadata": {
        "id": "BeTy4gRTZtdh"
      },
      "outputs": [
        {
          "name": "stdout",
          "output_type": "stream",
          "text": [
            "Model reloaded and ready!\n"
          ]
        }
      ],
      "source": [
        "# 6. Load the model\n",
        "model2 = FashionNN()\n",
        "model2.load_state_dict(torch.load('fashion_mnist_model.pth'))\n",
        "model2.eval()\n",
        "print(\"Model reloaded and ready!\")"
      ]
    },
    {
      "cell_type": "markdown",
      "metadata": {
        "id": "qk3YW3ccfWln"
      },
      "source": [
        "## Your Work\n",
        "\n",
        "MNIST is the simplest dataset in torchvision.datasets. Please replace FashionMNIST with MNIST for above codes and play around it with your parameters. Submit the notebook in PDF to BS by 5/11 11:59 pm."
      ]
    },
    {
      "cell_type": "code",
      "execution_count": 15,
      "metadata": {},
      "outputs": [
        {
          "name": "stderr",
          "output_type": "stream",
          "text": [
            "100%|██████████| 9.91M/9.91M [00:00<00:00, 27.8MB/s]\n",
            "100%|██████████| 28.9k/28.9k [00:00<00:00, 2.07MB/s]\n",
            "100%|██████████| 1.65M/1.65M [00:00<00:00, 18.3MB/s]\n",
            "100%|██████████| 4.54k/4.54k [00:00<00:00, 4.54MB/s]\n"
          ]
        },
        {
          "data": {
            "image/png": "[encoded data removed]",
            "text/plain": [
              "<Figure size 1500x200 with 8 Axes>"
            ]
          },
          "metadata": {},
          "output_type": "display_data"
        }
      ],
      "source": [
        "transform = transforms.ToTensor()\n",
        "\n",
        "train_dataset = datasets.MNIST(root='./data', train=True, download=True, transform=transform)\n",
        "test_dataset = datasets.MNIST(root='./data', train=False, download=True, transform=transform)\n",
        "\n",
        "train_loader = DataLoader(train_dataset, batch_size=64, shuffle=True)\n",
        "test_loader = DataLoader(test_dataset, batch_size=64, shuffle=False)\n",
        "\n",
        "# Visualize the first 8 images from MNIST\n",
        "classes = [str(i) for i in range(10)]\n",
        "images, labels = next(iter(train_loader))\n",
        "fig, axes = plt.subplots(1, 8, figsize=(15, 2))\n",
        "for idx in range(8):\n",
        "    img = images[idx].squeeze()\n",
        "    label = labels[idx].item()\n",
        "    axes[idx].imshow(img, cmap='gray')\n",
        "    axes[idx].set_title(classes[label], fontsize=8)\n",
        "    axes[idx].axis('off')\n",
        "plt.tight_layout()\n",
        "plt.show()"
      ]
    },
    {
      "cell_type": "code",
      "execution_count": null,
      "metadata": {},
      "outputs": [],
      "source": [
        "class MNISTNN(nn.Module): #define a simple neural network\n",
        "    def __init__(self):\n",
        "        super(MNISTNN, self).__init__()\n",
        "        self.fc1 = nn.Linear(28*28, 128)\n",
        "        self.fc2 = nn.Linear(128, 64)\n",
        "        self.fc3 = nn.Linear(64, 10)\n",
        "\n",
        "    def forward(self, x):\n",
        "        x = x.view(-1, 28*28)\n",
        "        x = torch.relu(self.fc1(x))\n",
        "        x = torch.relu(self.fc2(x))\n",
        "        x = self.fc3(x)\n",
        "        return x\n",
        "\n",
        "model = MNISTNN() #nn init\n",
        "\n",
        "criterion = nn.CrossEntropyLoss()\n",
        "optimizer = optim.Adam(model.parameters(), lr=0.001)"
      ]
    },
    {
      "cell_type": "code",
      "execution_count": 17,
      "metadata": {},
      "outputs": [
        {
          "name": "stdout",
          "output_type": "stream",
          "text": [
            "Epoch [1/5], Average Loss: 0.3387\n",
            "Epoch [2/5], Average Loss: 0.1400\n",
            "Epoch [3/5], Average Loss: 0.0969\n",
            "Epoch [4/5], Average Loss: 0.0724\n",
            "Epoch [5/5], Average Loss: 0.0566\n"
          ]
        }
      ],
      "source": [
        "for epoch in range(5):\n",
        "    running_loss = 0.0\n",
        "    for images, labels in train_loader:\n",
        "        outputs = model(images)\n",
        "        loss = criterion(outputs, labels)\n",
        "\n",
        "        optimizer.zero_grad()\n",
        "        loss.backward()\n",
        "        optimizer.step()\n",
        "\n",
        "        running_loss += loss.item()\n",
        "    avg_loss = running_loss / len(train_loader)\n",
        "    print(f'Epoch [{epoch+1}/5], Average Loss: {avg_loss:.4f}')"
      ]
    },
    {
      "cell_type": "code",
      "execution_count": 18,
      "metadata": {},
      "outputs": [
        {
          "name": "stdout",
          "output_type": "stream",
          "text": [
            "MNIST Model saved!\n",
            "MNIST Model reloaded and ready!\n"
          ]
        }
      ],
      "source": [
        "torch.save(model.state_dict(), 'mnist_model.pth')\n",
        "print(\"MNIST Model saved!\")\n",
        "\n",
        "\n",
        "model2 = MNISTNN()\n",
        "model2.load_state_dict(torch.load('mnist_model.pth'))\n",
        "model2.eval()\n",
        "print(\"MNIST Model reloaded and ready!\")"
      ]
    }
  ],
  "metadata": {
    "colab": {
      "provenance": []
    },
    "kernelspec": {
      "display_name": "Python 3",
      "name": "python3"
    },
    "language_info": {
      "codemirror_mode": {
        "name": "ipython",
        "version": 3
      },
      "file_extension": ".py",
      "mimetype": "text/x-python",
      "name": "python",
      "nbconvert_exporter": "python",
      "pygments_lexer": "ipython3",
      "version": "3.12.4"
    }
  },
  "nbformat": 4,
  "nbformat_minor": 0
}
