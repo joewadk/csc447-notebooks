{
  "cells": [
    {
      "cell_type": "markdown",
      "metadata": {
        "id": "p8PFuEpJIs9c"
      },
      "source": [
        "## Task\n",
        "\n",
        "Practice the ensemble methods with scikit-learn APIs\n",
        "- Voting(hard, soft)\n",
        "- Bagging\n",
        "- Stacking\n",
        "- Adaboost\n",
        "- Gradient Boosting\n",
        "- Compare ensemble methods with weak learns on the wine dataset"
      ]
    },
    {
      "cell_type": "markdown",
      "metadata": {
        "id": "vCwiLJ_KLQRR"
      },
      "source": [
        "### Voting Classifier"
      ]
    },
    {
      "cell_type": "code",
      "execution_count": 2,
      "metadata": {
        "colab": {
          "base_uri": "https://localhost:8080/"
        },
        "id": "2YamzmmJJPyS",
        "outputId": "8ebc69ba-5a25-494f-8e9e-f995ae55d586"
      },
      "outputs": [
        {
          "name": "stdout",
          "output_type": "stream",
          "text": [
            "Hard voting:  [1 1 1 2 2 1]\n",
            "Hard voting accuracy:  0.8333333333333334\n",
            "Soft voting:  [1 2 1 2 2 1]\n",
            "Soft voting accuracy:  1.0\n"
          ]
        }
      ],
      "source": [
        "import numpy as np\n",
        "from sklearn.linear_model import LogisticRegression\n",
        "from sklearn.naive_bayes import GaussianNB\n",
        "from sklearn.ensemble import RandomForestClassifier, VotingClassifier\n",
        "from sklearn.svm import SVC\n",
        "\n",
        "clf1 = LogisticRegression(random_state=1)\n",
        "clf2 = RandomForestClassifier(n_estimators=50, random_state=1)\n",
        "clf3 = SVC(probability=True)\n",
        "X = np.array([[-1, -1], [-2, -1], [-3, -2], [1, 1], [2, 1], [3, 2]])\n",
        "y = np.array([1, 2, 1, 2, 2, 1])\n",
        "\n",
        "# Hard voting\n",
        "eclf1 = VotingClassifier(estimators=[\n",
        "        ('lr', clf1), ('rf', clf2), ('svc', clf3)], voting='hard') # hard voting\n",
        "eclf1 = eclf1.fit(X, y)\n",
        "print(\"Hard voting: \", eclf1.predict(X))\n",
        "print(\"Hard voting accuracy: \", eclf1.score(X, y))\n",
        "\n",
        "# Soft voting\n",
        "eclf2 = VotingClassifier(estimators=[\n",
        "        ('lr', clf1), ('rf', clf2), ('svc', clf3)],\n",
        "        voting='soft', weights=[1,1,1]) # soft voting\n",
        "eclf2 = eclf2.fit(X, y)\n",
        "print(\"Soft voting: \", eclf2.predict(X))\n",
        "print(\"Soft voting accuracy: \", eclf2.score(X, y))"
      ]
    },
    {
      "cell_type": "markdown",
      "metadata": {
        "id": "2FGOQtGtLU5J"
      },
      "source": [
        "### Bagging Classifier"
      ]
    },
    {
      "cell_type": "code",
      "execution_count": 3,
      "metadata": {
        "colab": {
          "base_uri": "https://localhost:8080/"
        },
        "id": "Mim5Gz2_LWoi",
        "outputId": "6f03c03a-572b-471d-fdb4-e33596531629"
      },
      "outputs": [
        {
          "name": "stdout",
          "output_type": "stream",
          "text": [
            "SVC Bagging Prediction: [1]\n",
            "SVC Bagging accuracy:  0.92\n",
            "Decision Tree Bagging Prediction: [1]\n",
            "DT Bagging accuracy:  0.99\n"
          ]
        }
      ],
      "source": [
        "from sklearn.svm import SVC\n",
        "from sklearn.tree import DecisionTreeClassifier\n",
        "from sklearn.ensemble import BaggingClassifier\n",
        "from sklearn.datasets import make_classification\n",
        "\n",
        "# Generate example data\n",
        "X, y = make_classification(n_samples=100, n_features=4,\n",
        "                                n_informative=2, n_redundant=0,\n",
        "                                random_state=0, shuffle=False)\n",
        "\n",
        "# Bagging with SVC estimator\n",
        "clf_svc = BaggingClassifier(estimator=SVC(),\n",
        "                             n_estimators=20, random_state=42).fit(X, y)\n",
        "print(\"SVC Bagging Prediction:\", clf_svc.predict([[0, 0, 0, 0]]))\n",
        "print(\"SVC Bagging accuracy: \", clf_svc.score(X, y))\n",
        "\n",
        "# Bagging with DecisionTreeClassifier estimator\n",
        "clf_dt = BaggingClassifier(estimator=DecisionTreeClassifier(),\n",
        "                            n_estimators=20, random_state=42).fit(X, y)\n",
        "print(\"Decision Tree Bagging Prediction:\", clf_dt.predict([[0, 0, 0, 0]]))\n",
        "print(\"DT Bagging accuracy: \", clf_dt.score(X, y))"
      ]
    },
    {
      "cell_type": "markdown",
      "metadata": {
        "id": "I3f2y-TcPO84"
      },
      "source": [
        "### Stacking Classifier"
      ]
    },
    {
      "cell_type": "code",
      "execution_count": 4,
      "metadata": {
        "colab": {
          "base_uri": "https://localhost:8080/"
        },
        "id": "KqmKjauXPTwg",
        "outputId": "99819426-c307-43a1-ab0f-5b0054757ac6"
      },
      "outputs": [
        {
          "data": {
            "text/plain": [
              "0.9473684210526315"
            ]
          },
          "execution_count": 4,
          "metadata": {},
          "output_type": "execute_result"
        }
      ],
      "source": [
        "from sklearn.datasets import load_iris\n",
        "from sklearn.ensemble import RandomForestClassifier\n",
        "from sklearn.svm import LinearSVC\n",
        "from sklearn.linear_model import LogisticRegression\n",
        "from sklearn.preprocessing import StandardScaler\n",
        "from sklearn.pipeline import make_pipeline\n",
        "from sklearn.ensemble import StackingClassifier\n",
        "X, y = load_iris(return_X_y=True)\n",
        "\n",
        "# Set base estimators\n",
        "estimators = [\n",
        "    ('rf', RandomForestClassifier(n_estimators=10, random_state=42)),\n",
        "    ('svr', make_pipeline(StandardScaler(),\n",
        "                          LinearSVC(random_state=42)))\n",
        "]\n",
        "\n",
        "# Set meta-model estimator\n",
        "clf = StackingClassifier(\n",
        "    estimators=estimators, final_estimator=LogisticRegression()\n",
        ")\n",
        "\n",
        "from sklearn.model_selection import train_test_split\n",
        "X_train, X_test, y_train, y_test = train_test_split(\n",
        "    X, y, stratify=y, random_state=42\n",
        ")\n",
        "\n",
        "clf.fit(X_train, y_train).score(X_test, y_test)"
      ]
    },
    {
      "cell_type": "markdown",
      "metadata": {
        "id": "ZWyhksSqQXUv"
      },
      "source": [
        "### Adaboost"
      ]
    },
    {
      "cell_type": "code",
      "execution_count": 5,
      "metadata": {
        "colab": {
          "base_uri": "https://localhost:8080/"
        },
        "id": "V200NDsbQVpo",
        "outputId": "0f3b05a3-c2d0-4602-edbe-5883a2b448ad"
      },
      "outputs": [
        {
          "name": "stdout",
          "output_type": "stream",
          "text": [
            "Predicted label:  [1]\n",
            "Adaboost accuracy:  0.96\n"
          ]
        }
      ],
      "source": [
        "from sklearn.ensemble import AdaBoostClassifier\n",
        "from sklearn.datasets import make_classification\n",
        "X, y = make_classification(n_samples=1000, n_features=4,\n",
        "                           n_informative=2, n_redundant=0,\n",
        "                           random_state=0, shuffle=False)\n",
        "clf = AdaBoostClassifier(n_estimators=100, random_state=0)\n",
        "clf.fit(X, y)\n",
        "print(\"Predicted label: \", clf.predict([[0, 0, 0, 0]]))\n",
        "print(\"Adaboost accuracy: \", clf.score(X, y))"
      ]
    },
    {
      "cell_type": "markdown",
      "metadata": {
        "id": "sR0REcV2RhaY"
      },
      "source": [
        "### Gradient Boosting"
      ]
    },
    {
      "cell_type": "code",
      "execution_count": 6,
      "metadata": {
        "colab": {
          "base_uri": "https://localhost:8080/"
        },
        "id": "VmbFo3IvRjhH",
        "outputId": "6969de44-9b8c-472b-8f07-348d28621a68"
      },
      "outputs": [
        {
          "name": "stdout",
          "output_type": "stream",
          "text": [
            "Predicted label:  [ 1. -1. -1.  1. -1. -1.  1. -1.  1.  1.]\n",
            "Gradient Boosting accuracy:  0.913\n"
          ]
        }
      ],
      "source": [
        "from sklearn.datasets import make_hastie_10_2\n",
        "from sklearn.ensemble import GradientBoostingClassifier\n",
        "\n",
        "X, y = make_hastie_10_2(random_state=0)\n",
        "X_train, X_test = X[:2000], X[2000:]\n",
        "y_train, y_test = y[:2000], y[2000:]\n",
        "\n",
        "clf = GradientBoostingClassifier(n_estimators=100, learning_rate=1.0,\n",
        "    max_depth=1, random_state=0).fit(X_train, y_train)\n",
        "print(\"Predicted label: \", clf.predict(X_test[:10]))\n",
        "print(\"Gradient Boosting accuracy: \", clf.score(X_test, y_test))\n"
      ]
    },
    {
      "cell_type": "markdown",
      "metadata": {
        "id": "Q6ABq9pbSG7J"
      },
      "source": [
        "## Compare ensemble methods with weak learners on wine dataset"
      ]
    },
    {
      "cell_type": "code",
      "execution_count": 7,
      "metadata": {
        "id": "_TTBZxtfSPnH"
      },
      "outputs": [],
      "source": [
        "import numpy as np\n",
        "import matplotlib.pyplot as plt\n",
        "from sklearn.datasets import load_wine\n",
        "from sklearn.model_selection import train_test_split\n",
        "from sklearn.linear_model import LogisticRegression\n",
        "from sklearn.tree import DecisionTreeClassifier\n",
        "from sklearn.svm import SVC\n",
        "from sklearn.ensemble import (\n",
        "    BaggingClassifier,\n",
        "    RandomForestClassifier,\n",
        "    StackingClassifier,\n",
        "    AdaBoostClassifier,\n",
        "    GradientBoostingClassifier,\n",
        ")\n",
        "from sklearn.metrics import accuracy_score, roc_curve, auc, roc_auc_score\n",
        "\n",
        "# Load the Wine dataset\n",
        "wine = load_wine()\n",
        "X, y = wine.data, wine.target\n",
        "\n",
        "# Binary classification for ROC/AUC (considering only two classes)\n",
        "X_binary = X[y != 2]\n",
        "y_binary = y[y != 2]\n",
        "\n",
        "# Split the data into training and testing sets\n",
        "X_train, X_test, y_train, y_test = train_test_split(X, y, test_size=0.3, random_state=42)\n",
        "X_train_binary, X_test_binary, y_train_binary, y_test_binary = train_test_split(X_binary, y_binary, test_size=0.3, random_state=42)\n"
      ]
    },
    {
      "cell_type": "code",
      "execution_count": 8,
      "metadata": {
        "colab": {
          "base_uri": "https://localhost:8080/"
        },
        "id": "f9aSJtruTQau",
        "outputId": "d04eeee4-6d4d-4654-ffcc-69bcfbafc29a"
      },
      "outputs": [
        {
          "name": "stderr",
          "output_type": "stream",
          "text": [
            "c:\\Python312\\Lib\\site-packages\\sklearn\\linear_model\\_logistic.py:465: ConvergenceWarning: lbfgs failed to converge (status=1):\n",
            "STOP: TOTAL NO. OF ITERATIONS REACHED LIMIT.\n",
            "\n",
            "Increase the number of iterations (max_iter) or scale the data as shown in:\n",
            "    https://scikit-learn.org/stable/modules/preprocessing.html\n",
            "Please also refer to the documentation for alternative solver options:\n",
            "    https://scikit-learn.org/stable/modules/linear_model.html#logistic-regression\n",
            "  n_iter_i = _check_optimize_result(\n",
            "c:\\Python312\\Lib\\site-packages\\sklearn\\linear_model\\_logistic.py:465: ConvergenceWarning: lbfgs failed to converge (status=1):\n",
            "STOP: TOTAL NO. OF ITERATIONS REACHED LIMIT.\n",
            "\n",
            "Increase the number of iterations (max_iter) or scale the data as shown in:\n",
            "    https://scikit-learn.org/stable/modules/preprocessing.html\n",
            "Please also refer to the documentation for alternative solver options:\n",
            "    https://scikit-learn.org/stable/modules/linear_model.html#logistic-regression\n",
            "  n_iter_i = _check_optimize_result(\n"
          ]
        },
        {
          "name": "stdout",
          "output_type": "stream",
          "text": [
            "Model Accuracies:\n",
            "Logistic Regression: 0.9815\n",
            "SVC: 0.7593\n",
            "Decision Tree: 0.9630\n",
            "Bagging (Decision Tree): 0.9444\n",
            "Random Forest: 1.0000\n",
            "Stacking: 0.9630\n",
            "AdaBoost (Decision Tree): 0.9630\n",
            "Gradient Boosting (Decision Tree): 0.9074\n"
          ]
        }
      ],
      "source": [
        "# Weak Learners\n",
        "weak_learners = {\n",
        "    'Logistic Regression': LogisticRegression(max_iter=100),\n",
        "    'SVC': SVC(probability=True),\n",
        "    'Decision Tree': DecisionTreeClassifier(),\n",
        "}\n",
        "\n",
        "# Ensemble Methods\n",
        "ensemble_methods = {\n",
        "    'Bagging (Decision Tree)': BaggingClassifier(estimator=DecisionTreeClassifier(), n_estimators=50),\n",
        "    'Random Forest': RandomForestClassifier(n_estimators=50),\n",
        "    'Stacking': StackingClassifier(\n",
        "        estimators=[('svc', SVC(probability=True)), ('dt', DecisionTreeClassifier())],\n",
        "        final_estimator=LogisticRegression(max_iter=1000)\n",
        "    ),\n",
        "    'AdaBoost (Decision Tree)': AdaBoostClassifier(estimator=DecisionTreeClassifier(), n_estimators=50),\n",
        "    'Gradient Boosting (Decision Tree)': GradientBoostingClassifier(n_estimators=50),\n",
        "}\n",
        "\n",
        "# Train and evaluate\n",
        "all_models = {**weak_learners, **ensemble_methods} #Combine two dict.\n",
        "accuracies = {}\n",
        "roc_auc_scores = {}\n",
        "\n",
        "for name, model in all_models.items():\n",
        "    model.fit(X_train, y_train)\n",
        "    y_pred = model.predict(X_test)\n",
        "    accuracies[name] = accuracy_score(y_test, y_pred)\n",
        "\n",
        "    if name in ['Logistic Regression', 'SVC', 'Stacking', 'AdaBoost (Decision Tree)', 'Gradient Boosting (Decision Tree)']:\n",
        "        model.fit(X_train_binary, y_train_binary)\n",
        "        try:\n",
        "            y_pred_proba = model.predict_proba(X_test_binary)[:, 1]\n",
        "            roc_auc_scores[name] = roc_auc_score(y_test_binary, y_pred_proba)\n",
        "        except AttributeError:\n",
        "            roc_auc_scores[name] = np.nan\n",
        "    else:\n",
        "        roc_auc_scores[name] = np.nan\n",
        "\n",
        "# Print accuracies\n",
        "print(\"Model Accuracies:\")\n",
        "for name, accuracy in accuracies.items():\n",
        "    print(f\"{name}: {accuracy:.4f}\")\n"
      ]
    },
    {
      "cell_type": "code",
      "execution_count": 9,
      "metadata": {
        "colab": {
          "base_uri": "https://localhost:8080/",
          "height": 564
        },
        "id": "oOkKSEnyTSiw",
        "outputId": "da141f60-9312-4fc2-f462-50637238578b"
      },
      "outputs": [
        {
          "name": "stderr",
          "output_type": "stream",
          "text": [
            "c:\\Python312\\Lib\\site-packages\\sklearn\\linear_model\\_logistic.py:465: ConvergenceWarning: lbfgs failed to converge (status=1):\n",
            "STOP: TOTAL NO. OF ITERATIONS REACHED LIMIT.\n",
            "\n",
            "Increase the number of iterations (max_iter) or scale the data as shown in:\n",
            "    https://scikit-learn.org/stable/modules/preprocessing.html\n",
            "Please also refer to the documentation for alternative solver options:\n",
            "    https://scikit-learn.org/stable/modules/linear_model.html#logistic-regression\n",
            "  n_iter_i = _check_optimize_result(\n"
          ]
        },
        {
          "data": {
            "image/png": "[encoded data removed]",
            "text/plain": [
              "<Figure size 1000x600 with 1 Axes>"
            ]
          },
          "metadata": {},
          "output_type": "display_data"
        }
      ],
      "source": [
        "# ROC Curve plot\n",
        "plt.figure(figsize=(10, 6))\n",
        "for name in ['Logistic Regression', 'SVC', 'Stacking', 'AdaBoost (Decision Tree)', 'Gradient Boosting (Decision Tree)']:\n",
        "    if name in ['Logistic Regression', 'SVC', 'Stacking', 'AdaBoost (Decision Tree)', 'Gradient Boosting (Decision Tree)']:\n",
        "        model = all_models[name]\n",
        "        model.fit(X_train_binary, y_train_binary)\n",
        "        try:\n",
        "            y_pred_proba = model.predict_proba(X_test_binary)[:, 1]\n",
        "            fpr, tpr, thresholds = roc_curve(y_test_binary, y_pred_proba)\n",
        "            roc_auc = auc(fpr, tpr)\n",
        "            plt.plot(fpr, tpr, label=f'{name} (AUC = {roc_auc:.2f})')\n",
        "        except AttributeError:\n",
        "            pass\n",
        "\n",
        "plt.plot([0, 1], [0, 1], 'k--')\n",
        "plt.xlabel('False Positive Rate')\n",
        "plt.ylabel('True Positive Rate')\n",
        "plt.title('ROC Curve (Binary Classification)')\n",
        "plt.legend(loc='lower right')\n",
        "plt.show()"
      ]
    },
    {
      "cell_type": "markdown",
      "metadata": {
        "id": "cBd3gVJNU66O"
      },
      "source": [
        "## Your work\n",
        "\n",
        "Practice the sklearn ensemble methods: voting, stacking, bagging, adaboost and gradient boosting. Example is accessible via the link below.\n",
        "\n",
        "https://scikit-learn.org/stable/api/sklearn.ensemble.html\n",
        "\n",
        "**Submit your notebook in PDF format to BrightSpace by 3/30/2025 11:59 pm.**"
      ]
    },
    {
      "cell_type": "code",
      "execution_count": 11,
      "metadata": {},
      "outputs": [],
      "source": [
        "import pandas as pd\n",
        "from sklearn.datasets import load_iris\n",
        "from sklearn.ensemble import RandomForestClassifier\n",
        "from sklearn.model_selection import train_test_split\n",
        "\n",
        "iris = load_iris() # Load the iris dataset\n",
        "data = pd.DataFrame(data=iris.data, columns=iris.feature_names)\n",
        "data['target'] = iris.target"
      ]
    },
    {
      "cell_type": "code",
      "execution_count": 12,
      "metadata": {},
      "outputs": [
        {
          "data": {
            "image/png": "[encoded data removed]",
            "text/plain": [
              "<Figure size 600x400 with 1 Axes>"
            ]
          },
          "metadata": {},
          "output_type": "display_data"
        }
      ],
      "source": [
        "plt.figure(figsize=(6, 4))\n",
        "data['target'].value_counts().plot(kind='bar', color='skyblue')\n",
        "plt.title('Distribution of Target Classes')\n",
        "plt.xlabel('Target Class')\n",
        "plt.ylabel('Frequency')\n",
        "plt.xticks(ticks=[0, 1, 2], labels=iris.target_names, rotation=0)\n",
        "plt.show()"
      ]
    },
    {
      "cell_type": "code",
      "execution_count": 13,
      "metadata": {},
      "outputs": [
        {
          "name": "stdout",
          "output_type": "stream",
          "text": [
            "\n",
            "First 5 rows of the preprocessed dataset:\n"
          ]
        },
        {
          "data": {
            "text/html": [
              "<div>\n",
              "<style scoped>\n",
              "    .dataframe tbody tr th:only-of-type {\n",
              "        vertical-align: middle;\n",
              "    }\n",
              "\n",
              "    .dataframe tbody tr th {\n",
              "        vertical-align: top;\n",
              "    }\n",
              "\n",
              "    .dataframe thead th {\n",
              "        text-align: right;\n",
              "    }\n",
              "</style>\n",
              "<table border=\"1\" class=\"dataframe\">\n",
              "  <thead>\n",
              "    <tr style=\"text-align: right;\">\n",
              "      <th></th>\n",
              "      <th>sepal length (cm)</th>\n",
              "      <th>sepal width (cm)</th>\n",
              "      <th>petal length (cm)</th>\n",
              "      <th>petal width (cm)</th>\n",
              "      <th>target</th>\n",
              "    </tr>\n",
              "  </thead>\n",
              "  <tbody>\n",
              "    <tr>\n",
              "      <th>0</th>\n",
              "      <td>-0.900681</td>\n",
              "      <td>1.019004</td>\n",
              "      <td>-1.340227</td>\n",
              "      <td>-1.315444</td>\n",
              "      <td>0</td>\n",
              "    </tr>\n",
              "    <tr>\n",
              "      <th>1</th>\n",
              "      <td>-1.143017</td>\n",
              "      <td>-0.131979</td>\n",
              "      <td>-1.340227</td>\n",
              "      <td>-1.315444</td>\n",
              "      <td>0</td>\n",
              "    </tr>\n",
              "    <tr>\n",
              "      <th>2</th>\n",
              "      <td>-1.385353</td>\n",
              "      <td>0.328414</td>\n",
              "      <td>-1.397064</td>\n",
              "      <td>-1.315444</td>\n",
              "      <td>0</td>\n",
              "    </tr>\n",
              "    <tr>\n",
              "      <th>3</th>\n",
              "      <td>-1.506521</td>\n",
              "      <td>0.098217</td>\n",
              "      <td>-1.283389</td>\n",
              "      <td>-1.315444</td>\n",
              "      <td>0</td>\n",
              "    </tr>\n",
              "    <tr>\n",
              "      <th>4</th>\n",
              "      <td>-1.021849</td>\n",
              "      <td>1.249201</td>\n",
              "      <td>-1.340227</td>\n",
              "      <td>-1.315444</td>\n",
              "      <td>0</td>\n",
              "    </tr>\n",
              "  </tbody>\n",
              "</table>\n",
              "</div>"
            ],
            "text/plain": [
              "   sepal length (cm)  sepal width (cm)  petal length (cm)  petal width (cm)  \\\n",
              "0          -0.900681          1.019004          -1.340227         -1.315444   \n",
              "1          -1.143017         -0.131979          -1.340227         -1.315444   \n",
              "2          -1.385353          0.328414          -1.397064         -1.315444   \n",
              "3          -1.506521          0.098217          -1.283389         -1.315444   \n",
              "4          -1.021849          1.249201          -1.340227         -1.315444   \n",
              "\n",
              "   target  \n",
              "0       0  \n",
              "1       0  \n",
              "2       0  \n",
              "3       0  \n",
              "4       0  "
            ]
          },
          "execution_count": 13,
          "metadata": {},
          "output_type": "execute_result"
        }
      ],
      "source": [
        "data.fillna(data.mean(), inplace=True)\n",
        "scaler = StandardScaler()\n",
        "feature_columns = iris.feature_names  # Numerical feature columns\n",
        "data[feature_columns] = scaler.fit_transform(data[feature_columns])\n",
        "\n",
        "# Display the first few rows of the preprocessed dataset\n",
        "print(\"\\nFirst 5 rows of the preprocessed dataset:\")\n",
        "data.head()"
      ]
    },
    {
      "cell_type": "code",
      "execution_count": null,
      "metadata": {},
      "outputs": [],
      "source": [
        "X = data[iris.feature_names]  # Features\n",
        "y = data['target']  # Target variable\n",
        "X_train, X_test, y_train, y_test = train_test_split(X, y, test_size=0.2, random_state=42, stratify=y)"
      ]
    },
    {
      "cell_type": "code",
      "execution_count": null,
      "metadata": {},
      "outputs": [
        {
          "name": "stdout",
          "output_type": "stream",
          "text": [
            "Accuracy of Voting Classifier: 0.93\n"
          ]
        }
      ],
      "source": [
        "from sklearn.metrics import classification_report, confusion_matrix, accuracy_score\n",
        "log_clf = LogisticRegression(random_state=42)\n",
        "svc_clf = SVC(probability=True, random_state=42)  \n",
        "dt_clf = DecisionTreeClassifier(random_state=42)\n",
        "\n",
        "#Voting Classifier\n",
        "voting_clf = VotingClassifier(\n",
        "    estimators=[\n",
        "        ('logistic', log_clf),\n",
        "        ('svm', svc_clf),\n",
        "        ('decision_tree', dt_clf)\n",
        "    ],\n",
        "    voting='soft'\n",
        ")\n",
        "\n",
        "#train the Voting Classifier\n",
        "voting_clf.fit(X_train, y_train)\n",
        "\n",
        "#make predictions on the test set\n",
        "y_pred_voting = voting_clf.predict(X_test)\n",
        "accuracy_voting = accuracy_score(y_test, y_pred_voting)\n",
        "print(f\"Accuracy of Voting Classifier: {accuracy_voting:.2f}\")"
      ]
    },
    {
      "cell_type": "code",
      "execution_count": null,
      "metadata": {},
      "outputs": [
        {
          "name": "stdout",
          "output_type": "stream",
          "text": [
            "Accuracy of Stacking Classifier: 0.97\n"
          ]
        }
      ],
      "source": [
        "base_models = [\n",
        "    ('logistic', LogisticRegression(random_state=42)),\n",
        "    ('svm', SVC(probability=True, random_state=42)),  # Enable probability for compatibility\n",
        "    ('decision_tree', DecisionTreeClassifier(random_state=42))\n",
        "]\n",
        "\n",
        "meta_model = LogisticRegression(random_state=42)\n",
        "\n",
        "#create the Stacking Classifier\n",
        "stacking_clf = StackingClassifier(\n",
        "    estimators=base_models,\n",
        "    final_estimator=meta_model,\n",
        "    cv=5  #ouse 5-fold cross-validation for meta-model training\n",
        ")\n",
        "\n",
        "#train the Stacking Classifier\n",
        "stacking_clf.fit(X_train, y_train)\n",
        "\n",
        "#make predictions on the test set\n",
        "y_pred_stacking = stacking_clf.predict(X_test)\n",
        "accuracy_stacking = accuracy_score(y_test, y_pred_stacking)\n",
        "print(f\"Accuracy of Stacking Classifier: {accuracy_stacking:.2f}\")"
      ]
    },
    {
      "cell_type": "code",
      "execution_count": null,
      "metadata": {},
      "outputs": [
        {
          "name": "stdout",
          "output_type": "stream",
          "text": [
            "Accuracy of Bagging Classifier: 0.97\n"
          ]
        }
      ],
      "source": [
        "bagging_clf = BaggingClassifier(\n",
        "    estimator=SVC(),\n",
        "    n_estimators=50,  \n",
        "    random_state=42\n",
        ")\n",
        "\n",
        "\n",
        "#train the Bagging Classifier\n",
        "bagging_clf.fit(X_train, y_train)\n",
        "\n",
        "#make predictions on the test set\n",
        "y_pred_bagging = bagging_clf.predict(X_test)\n",
        "accuracy_bagging = accuracy_score(y_test, y_pred_bagging)\n",
        "print(f\"Accuracy of Bagging Classifier: {accuracy_bagging:.2f}\")"
      ]
    },
    {
      "cell_type": "code",
      "execution_count": null,
      "metadata": {},
      "outputs": [
        {
          "name": "stdout",
          "output_type": "stream",
          "text": [
            "Accuracy of AdaBoost Classifier: 0.93\n"
          ]
        }
      ],
      "source": [
        "adaboost_clf = AdaBoostClassifier(n_estimators=50,\n",
        "    random_state=42\n",
        ")\n",
        "\n",
        "#train the AdaBoost Classifier\n",
        "adaboost_clf.fit(X_train, y_train)\n",
        "\n",
        "#make predictions on the test set\n",
        "y_pred_adaboost = adaboost_clf.predict(X_test)\n",
        "accuracy_adaboost = accuracy_score(y_test, y_pred_adaboost)\n",
        "print(f\"Accuracy of AdaBoost Classifier: {accuracy_adaboost:.2f}\")"
      ]
    },
    {
      "cell_type": "code",
      "execution_count": 24,
      "metadata": {},
      "outputs": [
        {
          "name": "stdout",
          "output_type": "stream",
          "text": [
            "Accuracy of Gradient Boosting Classifier (default parameters): 0.97\n"
          ]
        }
      ],
      "source": [
        "gb_clf_default = GradientBoostingClassifier(random_state=42)\n",
        "\n",
        "#train the Gradient Boosting Classifier with default parameters\n",
        "gb_clf_default.fit(X_train, y_train)\n",
        "\n",
        "#make predictions on the test set\n",
        "y_pred_gb_default = gb_clf_default.predict(X_test)\n",
        "\n",
        "#evaluate the Gradient Boosting Classifier with default parameters\n",
        "accuracy_gb_default = accuracy_score(y_test, y_pred_gb_default)\n",
        "print(f\"Accuracy of Gradient Boosting Classifier (default parameters): {accuracy_gb_default:.2f}\")\n"
      ]
    }
  ],
  "metadata": {
    "colab": {
      "provenance": []
    },
    "kernelspec": {
      "display_name": "Python 3",
      "name": "python3"
    },
    "language_info": {
      "codemirror_mode": {
        "name": "ipython",
        "version": 3
      },
      "file_extension": ".py",
      "mimetype": "text/x-python",
      "name": "python",
      "nbconvert_exporter": "python",
      "pygments_lexer": "ipython3",
      "version": "3.12.4"
    }
  },
  "nbformat": 4,
  "nbformat_minor": 0
}
